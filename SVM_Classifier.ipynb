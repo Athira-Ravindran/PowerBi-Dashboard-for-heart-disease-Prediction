{
 "cells": [
  {
   "cell_type": "code",
   "execution_count": 2,
   "id": "69d69451",
   "metadata": {
    "tags": []
   },
   "outputs": [],
   "source": [
    "# Data Processing\n",
    "import pandas as pd\n",
    "import numpy as np\n",
    "# Modelling\n",
    "from sklearn.ensemble import RandomForestClassifier\n",
    "from sklearn.metrics import accuracy_score, confusion_matrix, precision_score, recall_score, ConfusionMatrixDisplay\n",
    "from sklearn.model_selection import RandomizedSearchCV, train_test_split\n",
    "from scipy.stats import randint\n",
    "import joblib\n",
    "from sklearn.preprocessing import OneHotEncoder \n",
    "from sklearn.pipeline import make_pipeline, Pipeline\n",
    "from sklearn.impute import SimpleImputer\n",
    "from sklearn.preprocessing import OneHotEncoder, StandardScaler\n",
    "from sklearn.compose import ColumnTransformer\n",
    "from sklearn.metrics import accuracy_score\n"
   ]
  },
  {
   "cell_type": "code",
   "execution_count": 3,
   "id": "3659c0bf",
   "metadata": {
    "tags": []
   },
   "outputs": [],
   "source": [
    "def create_svm_model(data):\n",
    "    X = data.drop('HeartDisease',axis=1)\n",
    "    y = data['HeartDisease']\n",
    "    X_train, X_test, y_train, y_test = train_test_split(X,y, test_size = 0.2, random_state = 42)\n",
    "    # get the categorical and numeric column names\n",
    "    num_cols = X_train.select_dtypes(exclude=['object']).columns.tolist()\n",
    "    cat_cols = X_train.select_dtypes(include=['object']).columns.tolist()\n",
    "    # pipeline for numerical columns\n",
    "    num_pipe = make_pipeline(\n",
    "        SimpleImputer(strategy='median'),\n",
    "        StandardScaler()\n",
    "    )\n",
    "    # pipeline for categorical columns\n",
    "    cat_pipe = make_pipeline(\n",
    "        SimpleImputer(strategy='constant', fill_value='N/A'),\n",
    "        OneHotEncoder(handle_unknown='ignore', sparse=False)\n",
    "    )\n",
    "\n",
    "    # combine both the pipelines\n",
    "    full_pipe = ColumnTransformer([\n",
    "        ('num', num_pipe, num_cols),\n",
    "        ('cat', cat_pipe, cat_cols)\n",
    "    ])\n",
    "    # build the model\n",
    "    model = make_pipeline(\n",
    "        full_pipe, svm.SVC(kernel='linear', C=1.0, probability=True))\n",
    "\n",
    "    # train the model\n",
    "    model.fit(X_train, y_train)\n",
    "    y_pred = model.predict(X_test)\n",
    "    # measure accuracy\n",
    "    score = accuracy_score(y_test, y_pred)\n",
    "    print(\"Accuracy Score:\", score)\n",
    "    return model"
   ]
  },
  {
   "cell_type": "code",
   "execution_count": 4,
   "id": "6fb399d4",
   "metadata": {
    "tags": []
   },
   "outputs": [],
   "source": [
    "def main():\n",
    "    data = pd.read_csv('heart.csv')\n",
    "    model = create_svm_model(data)\n",
    "    joblib.dump(model,\"rf_heartdisease_model.joblib\")\n",
    "    # make predictions on the test set"
   ]
  },
  {
   "cell_type": "code",
   "execution_count": null,
   "id": "ca32ccb8",
   "metadata": {},
   "outputs": [],
   "source": [
    "main()"
   ]
  }
 ],
 "metadata": {
  "kernelspec": {
   "display_name": "Python 3 (ipykernel)",
   "language": "python",
   "name": "python3"
  },
  "language_info": {
   "codemirror_mode": {
    "name": "ipython",
    "version": 3
   },
   "file_extension": ".py",
   "mimetype": "text/x-python",
   "name": "python",
   "nbconvert_exporter": "python",
   "pygments_lexer": "ipython3",
   "version": "3.11.5"
  }
 },
 "nbformat": 4,
 "nbformat_minor": 5
}
